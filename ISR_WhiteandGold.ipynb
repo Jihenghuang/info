{
 "cells": [
  {
   "cell_type": "code",
   "execution_count": 1,
   "metadata": {},
   "outputs": [
    {
     "name": "stdout",
     "output_type": "stream",
     "text": [
      "Populating the interactive namespace from numpy and matplotlib\n"
     ]
    },
    {
     "name": "stderr",
     "output_type": "stream",
     "text": [
      "C:\\Users\\Jiheng\\Anaconda3\\lib\\site-packages\\IPython\\core\\magics\\pylab.py:160: UserWarning: pylab import has clobbered these variables: ['plt']\n",
      "`%matplotlib` prevents importing * from pylab and numpy\n",
      "  \"\\n`%matplotlib` prevents importing * from pylab and numpy\"\n"
     ]
    }
   ],
   "source": [
    "import pandas as pd\n",
    "from sklearn import linear_model\n",
    "from sklearn.metrics import mean_squared_error\n",
    "import matplotlib as plt\n",
    "%pylab inline\n",
    "\n",
    "from sklearn.model_selection import train_test_split"
   ]
  },
  {
   "cell_type": "code",
   "execution_count": 3,
   "metadata": {},
   "outputs": [
    {
     "name": "stdout",
     "output_type": "stream",
     "text": [
      "<class 'str'>\n"
     ]
    },
    {
     "data": {
      "text/html": [
       "<div>\n",
       "<style scoped>\n",
       "    .dataframe tbody tr th:only-of-type {\n",
       "        vertical-align: middle;\n",
       "    }\n",
       "\n",
       "    .dataframe tbody tr th {\n",
       "        vertical-align: top;\n",
       "    }\n",
       "\n",
       "    .dataframe thead th {\n",
       "        text-align: right;\n",
       "    }\n",
       "</style>\n",
       "<table border=\"1\" class=\"dataframe\">\n",
       "  <thead>\n",
       "    <tr style=\"text-align: right;\">\n",
       "      <th></th>\n",
       "      <th>Unnamed: 0</th>\n",
       "      <th>Ignorant</th>\n",
       "      <th>Spreader</th>\n",
       "      <th>Recovered</th>\n",
       "      <th>time</th>\n",
       "    </tr>\n",
       "  </thead>\n",
       "  <tbody>\n",
       "    <tr>\n",
       "      <th>0</th>\n",
       "      <td>0</td>\n",
       "      <td>13613</td>\n",
       "      <td>0</td>\n",
       "      <td>0</td>\n",
       "      <td>2018-01-05 00:00:00</td>\n",
       "    </tr>\n",
       "  </tbody>\n",
       "</table>\n",
       "</div>"
      ],
      "text/plain": [
       "   Unnamed: 0  Ignorant  Spreader  Recovered                 time\n",
       "0           0     13613         0          0  2018-01-05 00:00:00"
      ]
     },
     "execution_count": 3,
     "metadata": {},
     "output_type": "execute_result"
    }
   ],
   "source": [
    "# data = pd.read_csv('../ISR_WhyWeWearBlack.csv')\n",
    "# print(type(data['time'][0]))\n",
    "# data[:1]"
   ]
  },
  {
   "cell_type": "code",
   "execution_count": 4,
   "metadata": {},
   "outputs": [],
   "source": [
    "# data['day'] = pd.to_datetime(data['time']).dt.dayofyear \n",
    "# data['hour'] = pd.to_datetime(data['time']).dt.hour\n",
    "# data = data.sort_values(by=['day', 'hour'])\n",
    "# data['day'] -= (data['day'].iloc[0] - 1)"
   ]
  },
  {
   "cell_type": "code",
   "execution_count": 5,
   "metadata": {},
   "outputs": [
    {
     "name": "stdout",
     "output_type": "stream",
     "text": [
      "   Unnamed: 0  Ignorant  Spreader  Recovered                 time  day  hour\n",
      "0           0     13613         0          0  2018-01-05 00:00:00    1     0\n",
      "1           1     13613         0          0  2018-01-05 01:00:00    1     1\n",
      "      Unnamed: 0  Ignorant  Spreader  Recovered                 time  day  \\\n",
      "1870        1870         0         0      13613  2018-03-23 22:00:00   78   \n",
      "1871        1871         0         0      13613  2018-03-23 23:00:00   78   \n",
      "\n",
      "      hour  \n",
      "1870    22  \n",
      "1871    23  \n"
     ]
    }
   ],
   "source": [
    "# print(data[:2])\n",
    "# print(data[-2:])"
   ]
  },
  {
   "cell_type": "code",
   "execution_count": 5,
   "metadata": {},
   "outputs": [],
   "source": [
    "# data = data[:168]"
   ]
  },
  {
   "cell_type": "code",
   "execution_count": 2,
   "metadata": {},
   "outputs": [
    {
     "data": {
      "text/html": [
       "<div>\n",
       "<style scoped>\n",
       "    .dataframe tbody tr th:only-of-type {\n",
       "        vertical-align: middle;\n",
       "    }\n",
       "\n",
       "    .dataframe tbody tr th {\n",
       "        vertical-align: top;\n",
       "    }\n",
       "\n",
       "    .dataframe thead th {\n",
       "        text-align: right;\n",
       "    }\n",
       "</style>\n",
       "<table border=\"1\" class=\"dataframe\">\n",
       "  <thead>\n",
       "    <tr style=\"text-align: right;\">\n",
       "      <th></th>\n",
       "      <th>Hour</th>\n",
       "      <th>Ignorant</th>\n",
       "      <th>Spreader</th>\n",
       "      <th>Recovered</th>\n",
       "      <th>time</th>\n",
       "    </tr>\n",
       "  </thead>\n",
       "  <tbody>\n",
       "    <tr>\n",
       "      <th>0</th>\n",
       "      <td>0</td>\n",
       "      <td>67637</td>\n",
       "      <td>5</td>\n",
       "      <td>226</td>\n",
       "      <td>2/27/2015 0:00</td>\n",
       "    </tr>\n",
       "    <tr>\n",
       "      <th>1</th>\n",
       "      <td>1</td>\n",
       "      <td>67637</td>\n",
       "      <td>5</td>\n",
       "      <td>226</td>\n",
       "      <td>2/27/2015 1:00</td>\n",
       "    </tr>\n",
       "    <tr>\n",
       "      <th>2</th>\n",
       "      <td>2</td>\n",
       "      <td>67637</td>\n",
       "      <td>5</td>\n",
       "      <td>226</td>\n",
       "      <td>2/27/2015 2:00</td>\n",
       "    </tr>\n",
       "    <tr>\n",
       "      <th>3</th>\n",
       "      <td>3</td>\n",
       "      <td>67637</td>\n",
       "      <td>5</td>\n",
       "      <td>226</td>\n",
       "      <td>2/27/2015 3:00</td>\n",
       "    </tr>\n",
       "    <tr>\n",
       "      <th>4</th>\n",
       "      <td>4</td>\n",
       "      <td>67637</td>\n",
       "      <td>5</td>\n",
       "      <td>226</td>\n",
       "      <td>2/27/2015 4:00</td>\n",
       "    </tr>\n",
       "  </tbody>\n",
       "</table>\n",
       "</div>"
      ],
      "text/plain": [
       "   Hour  Ignorant  Spreader  Recovered            time\n",
       "0     0     67637         5        226  2/27/2015 0:00\n",
       "1     1     67637         5        226  2/27/2015 1:00\n",
       "2     2     67637         5        226  2/27/2015 2:00\n",
       "3     3     67637         5        226  2/27/2015 3:00\n",
       "4     4     67637         5        226  2/27/2015 4:00"
      ]
     },
     "execution_count": 2,
     "metadata": {},
     "output_type": "execute_result"
    }
   ],
   "source": [
    "tag = 'WhiteandGold'\n",
    "data = pd.read_csv('../ISR_%s_Trimmed.csv' %tag).reset_index().rename(columns={\"index\": \"Hour\"})\n",
    "data.head()"
   ]
  },
  {
   "cell_type": "code",
   "execution_count": 4,
   "metadata": {},
   "outputs": [],
   "source": [
    "# normalize the number of unique users\n",
    "data['Ignorant'] /= 67868\n",
    "data['Spreader'] /= 67868\n",
    "data['Recovered'] /= 67868"
   ]
  },
  {
   "cell_type": "code",
   "execution_count": 5,
   "metadata": {},
   "outputs": [
    {
     "data": {
      "text/html": [
       "<div>\n",
       "<style scoped>\n",
       "    .dataframe tbody tr th:only-of-type {\n",
       "        vertical-align: middle;\n",
       "    }\n",
       "\n",
       "    .dataframe tbody tr th {\n",
       "        vertical-align: top;\n",
       "    }\n",
       "\n",
       "    .dataframe thead th {\n",
       "        text-align: right;\n",
       "    }\n",
       "</style>\n",
       "<table border=\"1\" class=\"dataframe\">\n",
       "  <thead>\n",
       "    <tr style=\"text-align: right;\">\n",
       "      <th></th>\n",
       "      <th>Hour</th>\n",
       "      <th>Ignorant</th>\n",
       "      <th>Spreader</th>\n",
       "      <th>Recovered</th>\n",
       "      <th>time</th>\n",
       "      <th>i_dot</th>\n",
       "      <th>s_dot</th>\n",
       "      <th>r_dot</th>\n",
       "      <th>IS</th>\n",
       "      <th>-SS</th>\n",
       "    </tr>\n",
       "  </thead>\n",
       "  <tbody>\n",
       "    <tr>\n",
       "      <th>1</th>\n",
       "      <td>1</td>\n",
       "      <td>0.000015</td>\n",
       "      <td>1.085525e-09</td>\n",
       "      <td>4.906574e-08</td>\n",
       "      <td>2/27/2015 1:00</td>\n",
       "      <td>0.0</td>\n",
       "      <td>0.0</td>\n",
       "      <td>0.0</td>\n",
       "      <td>1.594021e-14</td>\n",
       "      <td>-1.178365e-18</td>\n",
       "    </tr>\n",
       "    <tr>\n",
       "      <th>2</th>\n",
       "      <td>2</td>\n",
       "      <td>0.000015</td>\n",
       "      <td>1.085525e-09</td>\n",
       "      <td>4.906574e-08</td>\n",
       "      <td>2/27/2015 2:00</td>\n",
       "      <td>0.0</td>\n",
       "      <td>0.0</td>\n",
       "      <td>0.0</td>\n",
       "      <td>1.594021e-14</td>\n",
       "      <td>-1.178365e-18</td>\n",
       "    </tr>\n",
       "  </tbody>\n",
       "</table>\n",
       "</div>"
      ],
      "text/plain": [
       "   Hour  Ignorant      Spreader     Recovered            time  i_dot  s_dot  \\\n",
       "1     1  0.000015  1.085525e-09  4.906574e-08  2/27/2015 1:00    0.0    0.0   \n",
       "2     2  0.000015  1.085525e-09  4.906574e-08  2/27/2015 2:00    0.0    0.0   \n",
       "\n",
       "   r_dot            IS           -SS  \n",
       "1    0.0  1.594021e-14 -1.178365e-18  \n",
       "2    0.0  1.594021e-14 -1.178365e-18  "
      ]
     },
     "execution_count": 5,
     "metadata": {},
     "output_type": "execute_result"
    }
   ],
   "source": [
    "data['i_dot'] = data['Ignorant'].diff()\n",
    "data['s_dot'] = data['Spreader'].diff()\n",
    "data['r_dot'] = data['Recovered'].diff()\n",
    "data['IS'] = data['Ignorant'] * data['Spreader']\n",
    "data['-SS'] = - data['Spreader'] * data['Spreader']\n",
    "\n",
    "data = data.iloc[1:] #eliminate the first row\n",
    "data[:2]"
   ]
  },
  {
   "cell_type": "code",
   "execution_count": 6,
   "metadata": {},
   "outputs": [],
   "source": [
    "# two linear models - first model, beta\n",
    "X =  - data[['IS']]\n",
    "y = data['i_dot']\n",
    "\n",
    "X_train, X_test, y_train, y_test = train_test_split(X, y, test_size=0.3, random_state=4)"
   ]
  },
  {
   "cell_type": "code",
   "execution_count": 7,
   "metadata": {},
   "outputs": [
    {
     "name": "stdout",
     "output_type": "stream",
     "text": [
      "0.93\n",
      "[76555.912]\n"
     ]
    }
   ],
   "source": [
    "lm = linear_model.LinearRegression()\n",
    "model = lm.fit(X,y)\n",
    "print(np.round(lm.score(X,y), 3)) # returns the coefficient of determination R^2 of the prediction (r-squared)\n",
    "print(np.round(lm.coef_, 3)) # returns the estimated parameters beta1, beta2, delta"
   ]
  },
  {
   "cell_type": "code",
   "execution_count": 8,
   "metadata": {},
   "outputs": [
    {
     "name": "stdout",
     "output_type": "stream",
     "text": [
      "0.911\n",
      "[85884.873]\n"
     ]
    }
   ],
   "source": [
    "lm = linear_model.LinearRegression()\n",
    "model = lm.fit(X_train,y_train)\n",
    "print(np.round(lm.score(X_train,y_train), 3)) # returns the coefficient of determination R^2 of the prediction (r-squared)\n",
    "print(np.round(lm.coef_, 3)) # returns the estimated parameters beta1, beta2, delta"
   ]
  },
  {
   "cell_type": "code",
   "execution_count": 9,
   "metadata": {},
   "outputs": [
    {
     "name": "stdout",
     "output_type": "stream",
     "text": [
      "Liner Regression RMSE: 0.0000\n"
     ]
    }
   ],
   "source": [
    "y_pred = model.predict(X)\n",
    "lin_mse = mean_squared_error(y_pred, y)\n",
    "lin_rmse = np.sqrt(lin_mse)\n",
    "print('Liner Regression RMSE: %.4f' % lin_rmse)"
   ]
  },
  {
   "cell_type": "code",
   "execution_count": 10,
   "metadata": {},
   "outputs": [
    {
     "name": "stdout",
     "output_type": "stream",
     "text": [
      "Liner Regression RMSE: 0.0000\n"
     ]
    }
   ],
   "source": [
    "y_pred = model.predict(X_test)\n",
    "lin_mse = mean_squared_error(y_pred, y_test)\n",
    "lin_rmse = np.sqrt(lin_mse)\n",
    "print('Liner Regression RMSE: %.4f' % lin_rmse)"
   ]
  },
  {
   "cell_type": "markdown",
   "metadata": {},
   "source": [
    "---"
   ]
  },
  {
   "cell_type": "code",
   "execution_count": 16,
   "metadata": {},
   "outputs": [],
   "source": [
    "# two linear models - first model, beta\n",
    "X_train_2 = X[:49]\n",
    "y_train_2 = y[:49]\n",
    "X_test_2 = X[49:]\n",
    "y_test_2 = y[49:]"
   ]
  },
  {
   "cell_type": "code",
   "execution_count": 17,
   "metadata": {},
   "outputs": [
    {
     "name": "stdout",
     "output_type": "stream",
     "text": [
      "0.918\n",
      "[74202.11]\n"
     ]
    }
   ],
   "source": [
    "lm = linear_model.LinearRegression()\n",
    "model = lm.fit(X_train_2,y_train_2)\n",
    "print(np.round(lm.score(X_train_2,y_train_2), 3)) # returns the coefficient of determination R^2 of the prediction (r-squared)\n",
    "print(np.round(lm.coef_, 3)) # returns the estimated parameters beta1, beta2, delta"
   ]
  },
  {
   "cell_type": "code",
   "execution_count": 18,
   "metadata": {},
   "outputs": [
    {
     "name": "stdout",
     "output_type": "stream",
     "text": [
      "Liner Regression RMSE: 0.0000\n"
     ]
    }
   ],
   "source": [
    "y_pred_2 = model.predict(X_test_2)\n",
    "lin_mse_2 = mean_squared_error(y_pred_2, y_test_2)\n",
    "lin_rmse = np.sqrt(lin_mse_2)\n",
    "print('Liner Regression RMSE: %.4f' % lin_rmse)"
   ]
  },
  {
   "cell_type": "code",
   "execution_count": 33,
   "metadata": {},
   "outputs": [],
   "source": [
    "beta = lm.coef_\n",
    "data['beta_IS'] = data['IS'] * beta\n",
    "data['s_dot-beta_IS'] = data['s_dot']- data['beta_IS']"
   ]
  },
  {
   "cell_type": "code",
   "execution_count": 34,
   "metadata": {},
   "outputs": [
    {
     "name": "stdout",
     "output_type": "stream",
     "text": [
      "0.495\n",
      "[2.439]\n"
     ]
    }
   ],
   "source": [
    "# two linear models - first model, gamma\n",
    "X = data[['-SS']]\n",
    "y = data['s_dot-beta_IS']\n",
    "\n",
    "lm = linear_model.LinearRegression()\n",
    "model = lm.fit(X,y)\n",
    "print(np.round(lm.score(X,y), 3)) # returns the coefficient of determination R^2 of the prediction (r-squared)\n",
    "print(np.round(lm.coef_, 3)) # returns the estimated parameters beta1, beta2, delta"
   ]
  },
  {
   "cell_type": "code",
   "execution_count": 35,
   "metadata": {},
   "outputs": [
    {
     "name": "stdout",
     "output_type": "stream",
     "text": [
      "Liner Regression RMSE: 0.01134553\n"
     ]
    }
   ],
   "source": [
    "y_pred = model.predict(X)\n",
    "lin_mse = mean_squared_error(y_pred, y)\n",
    "lin_rmse = np.sqrt(lin_mse)\n",
    "print('Liner Regression RMSE: %.8f' % lin_rmse)"
   ]
  },
  {
   "cell_type": "markdown",
   "metadata": {},
   "source": [
    "---"
   ]
  },
  {
   "cell_type": "code",
   "execution_count": 50,
   "metadata": {},
   "outputs": [
    {
     "name": "stderr",
     "output_type": "stream",
     "text": [
      "C:\\Users\\ji326777\\AppData\\Local\\Continuum\\anaconda3\\lib\\site-packages\\ipykernel_launcher.py:2: SettingWithCopyWarning: \n",
      "A value is trying to be set on a copy of a slice from a DataFrame.\n",
      "Try using .loc[row_indexer,col_indexer] = value instead\n",
      "\n",
      "See the caveats in the documentation: http://pandas.pydata.org/pandas-docs/stable/indexing.html#indexing-view-versus-copy\n",
      "  \n",
      "C:\\Users\\ji326777\\AppData\\Local\\Continuum\\anaconda3\\lib\\site-packages\\ipykernel_launcher.py:3: SettingWithCopyWarning: \n",
      "A value is trying to be set on a copy of a slice from a DataFrame.\n",
      "Try using .loc[row_indexer,col_indexer] = value instead\n",
      "\n",
      "See the caveats in the documentation: http://pandas.pydata.org/pandas-docs/stable/indexing.html#indexing-view-versus-copy\n",
      "  This is separate from the ipykernel package so we can avoid doing imports until\n",
      "C:\\Users\\ji326777\\AppData\\Local\\Continuum\\anaconda3\\lib\\site-packages\\ipykernel_launcher.py:4: SettingWithCopyWarning: \n",
      "A value is trying to be set on a copy of a slice from a DataFrame.\n",
      "Try using .loc[row_indexer,col_indexer] = value instead\n",
      "\n",
      "See the caveats in the documentation: http://pandas.pydata.org/pandas-docs/stable/indexing.html#indexing-view-versus-copy\n",
      "  after removing the cwd from sys.path.\n"
     ]
    }
   ],
   "source": [
    "beta = lm.coef_\n",
    "data_2['beta_IS'] = data_2['IS'] * beta\n",
    "data_2['s_dot-beta_IS'] = data_2['s_dot']- data_2['beta_IS']\n",
    "data_2['-S'] = - data_2['S_count']"
   ]
  },
  {
   "cell_type": "code",
   "execution_count": 51,
   "metadata": {},
   "outputs": [
    {
     "name": "stdout",
     "output_type": "stream",
     "text": [
      "0.667\n",
      "[3.420566e+03 3.620000e-01]\n"
     ]
    }
   ],
   "source": [
    "# two linear models - first model, gamma\n",
    "X = data_2[['-SS', '-S']]\n",
    "y = data_2['s_dot-beta_IS']\n",
    "\n",
    "lm = linear_model.LinearRegression()\n",
    "model = lm.fit(X,y)\n",
    "print(np.round(lm.score(X,y), 3)) # returns the coefficient of determination R^2 of the prediction (r-squared)\n",
    "print(np.round(lm.coef_, 3)) # returns the estimated parameters beta1, beta2, delta"
   ]
  },
  {
   "cell_type": "code",
   "execution_count": 53,
   "metadata": {},
   "outputs": [
    {
     "name": "stdout",
     "output_type": "stream",
     "text": [
      "Liner Regression RMSE: 0.00000022\n"
     ]
    }
   ],
   "source": [
    "y_pred = model.predict(X)\n",
    "lin_mse = mean_squared_error(y_pred, y)\n",
    "lin_rmse = np.sqrt(lin_mse)\n",
    "print('Liner Regression RMSE: %.8f' % lin_rmse)"
   ]
  },
  {
   "cell_type": "code",
   "execution_count": null,
   "metadata": {},
   "outputs": [],
   "source": []
  }
 ],
 "metadata": {
  "kernelspec": {
   "display_name": "Python 3",
   "language": "python",
   "name": "python3"
  },
  "language_info": {
   "codemirror_mode": {
    "name": "ipython",
    "version": 3
   },
   "file_extension": ".py",
   "mimetype": "text/x-python",
   "name": "python",
   "nbconvert_exporter": "python",
   "pygments_lexer": "ipython3",
   "version": "3.7.3"
  }
 },
 "nbformat": 4,
 "nbformat_minor": 2
}
